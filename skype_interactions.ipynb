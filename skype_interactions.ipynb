{
 "cells": [
  {
   "cell_type": "code",
   "execution_count": 36,
   "id": "e341ef36",
   "metadata": {},
   "outputs": [],
   "source": [
    "from faker import Faker\n",
    "fake = Faker()\n",
    "import random\n",
    "import pandas as pd"
   ]
  },
  {
   "cell_type": "code",
   "execution_count": 45,
   "id": "85d27742",
   "metadata": {},
   "outputs": [],
   "source": [
    "def skype_interactions(n):\n",
    "    df = pd.DataFrame(columns = ['organizer' , 'call_duration_mins', 'participants' , 'interaction'])\n",
    "    levels = ['High','Low','Medium']\n",
    "    for i in range(1000):\n",
    "        organiser=fake.name()\n",
    "        call_duration_mins=random.randint(5,180)\n",
    "        group=[\",\".join(fake.name() for _ in range(random.randint(2,10)))]\n",
    "        interaction_level=random.choice(levels)\n",
    "        df.loc[len(df)] =[organiser,call_duration_mins,group,interaction_level]\n",
    "    return df.to_csv('skype_interactions.csv')"
   ]
  },
  {
   "cell_type": "code",
   "execution_count": 46,
   "id": "dbf6c41b",
   "metadata": {},
   "outputs": [],
   "source": [
    "skype_interactions(100000)"
   ]
  },
  {
   "cell_type": "code",
   "execution_count": null,
   "id": "20fbef6b",
   "metadata": {},
   "outputs": [],
   "source": []
  }
 ],
 "metadata": {
  "kernelspec": {
   "display_name": "Python 3 (ipykernel)",
   "language": "python",
   "name": "python3"
  },
  "language_info": {
   "codemirror_mode": {
    "name": "ipython",
    "version": 3
   },
   "file_extension": ".py",
   "mimetype": "text/x-python",
   "name": "python",
   "nbconvert_exporter": "python",
   "pygments_lexer": "ipython3",
   "version": "3.9.12"
  }
 },
 "nbformat": 4,
 "nbformat_minor": 5
}
